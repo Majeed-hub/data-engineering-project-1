{
 "cells": [
  {
   "cell_type": "code",
   "execution_count": 3,
   "metadata": {},
   "outputs": [
    {
     "name": "stdout",
     "output_type": "stream",
     "text": [
      "{'rollno': '3', 'name': 'afzan', 'class': 'bcom'}\n",
      "{'rollno': '4', 'name': 'mohammed', 'class': 'ACCA'}\n",
      "{'rollno': '5', 'name': 'abdullah', 'class': 'cse'}\n",
      "{'rollno': '6', 'name': 'shakib', 'class': 'CMA'}\n"
     ]
    }
   ],
   "source": [
    "import csv\n",
    "with open('student.csv','r') as file:\n",
    "    content = csv.DictReader(file)\n",
    "    for line in content:\n",
    "        print(line)"
   ]
  },
  {
   "cell_type": "code",
   "execution_count": 11,
   "metadata": {},
   "outputs": [
    {
     "name": "stdout",
     "output_type": "stream",
     "text": [
      "3,afzan,bcom\n",
      "4,mohammed,ACCA\n",
      "5,abdullah,cse\n",
      "6,shakib,CMA\n"
     ]
    }
   ],
   "source": [
    "# with open('student.csv','r') as file:\n",
    "#     content = file.readlines()\n",
    "   \n",
    "#     for line in content:\n",
    "#          for item in line.split:\n"
   ]
  }
 ],
 "metadata": {
  "kernelspec": {
   "display_name": "Python 3",
   "language": "python",
   "name": "python3"
  },
  "language_info": {
   "codemirror_mode": {
    "name": "ipython",
    "version": 3
   },
   "file_extension": ".py",
   "mimetype": "text/x-python",
   "name": "python",
   "nbconvert_exporter": "python",
   "pygments_lexer": "ipython3",
   "version": "3.9.7"
  },
  "orig_nbformat": 4,
  "vscode": {
   "interpreter": {
    "hash": "81794d4967e6c3204c66dcd87b604927b115b27c00565d3d43f05ba2f3a2cb0d"
   }
  }
 },
 "nbformat": 4,
 "nbformat_minor": 2
}
